{
 "cells": [
  {
   "cell_type": "code",
   "execution_count": 11,
   "outputs": [
    {
     "name": "stdout",
     "output_type": "stream",
     "text": [
      "[{\"code\": \"1114000000\", \"name\": NaN}, {\"code\": \"1114010100\", \"name\": \"무교동\"}, {\"code\": \"1114010200\", \"name\": \"다동\"}, {\"code\": \"1114010300\", \"name\": \"태평로1가\"}, {\"code\": \"1114010400\", \"name\": \"을지로1가\"}, {\"code\": \"1114010500\", \"name\": \"을지로2가\"}, {\"code\": \"1114010600\", \"name\": \"남대문로1가\"}, {\"code\": \"1114010700\", \"name\": \"삼각동\"}, {\"code\": \"1114010800\", \"name\": \"수하동\"}, {\"code\": \"1114010900\", \"name\": \"장교동\"}, {\"code\": \"1114011000\", \"name\": \"수표동\"}, {\"code\": \"1114011100\", \"name\": \"소공동\"}, {\"code\": \"1114011200\", \"name\": \"남창동\"}, {\"code\": \"1114011300\", \"name\": \"북창동\"}, {\"code\": \"1114011400\", \"name\": \"태평로2가\"}, {\"code\": \"1114011500\", \"name\": \"남대문로2가\"}, {\"code\": \"1114011600\", \"name\": \"남대문로3가\"}, {\"code\": \"1114011700\", \"name\": \"남대문로4가\"}, {\"code\": \"1114011800\", \"name\": \"남대문로5가\"}, {\"code\": \"1114011900\", \"name\": \"봉래동1가\"}, {\"code\": \"1114012000\", \"name\": \"봉래동2가\"}, {\"code\": \"1114012100\", \"name\": \"회현동1가\"}, {\"code\": \"1114012200\", \"name\": \"회현동2가\"}, {\"code\": \"1114012300\", \"name\": \"회현동3가\"}, {\"code\": \"1114012400\", \"name\": \"충무로1가\"}, {\"code\": \"1114012500\", \"name\": \"충무로2가\"}, {\"code\": \"1114012600\", \"name\": \"명동1가\"}, {\"code\": \"1114012700\", \"name\": \"명동2가\"}, {\"code\": \"1114012800\", \"name\": \"남산동1가\"}, {\"code\": \"1114012900\", \"name\": \"남산동2가\"}, {\"code\": \"1114013000\", \"name\": \"남산동3가\"}, {\"code\": \"1114013100\", \"name\": \"저동1가\"}, {\"code\": \"1114013200\", \"name\": \"충무로4가\"}, {\"code\": \"1114013300\", \"name\": \"충무로5가\"}, {\"code\": \"1114013400\", \"name\": \"인현동2가\"}, {\"code\": \"1114013500\", \"name\": \"예관동\"}, {\"code\": \"1114013600\", \"name\": \"묵정동\"}, {\"code\": \"1114013700\", \"name\": \"필동1가\"}, {\"code\": \"1114013800\", \"name\": \"필동2가\"}, {\"code\": \"1114013900\", \"name\": \"필동3가\"}, {\"code\": \"1114014000\", \"name\": \"남학동\"}, {\"code\": \"1114014100\", \"name\": \"주자동\"}, {\"code\": \"1114014200\", \"name\": \"예장동\"}, {\"code\": \"1114014300\", \"name\": \"장충동1가\"}, {\"code\": \"1114014400\", \"name\": \"장충동2가\"}, {\"code\": \"1114014500\", \"name\": \"광희동1가\"}, {\"code\": \"1114014600\", \"name\": \"광희동2가\"}, {\"code\": \"1114014700\", \"name\": \"쌍림동\"}, {\"code\": \"1114014800\", \"name\": \"을지로6가\"}, {\"code\": \"1114014900\", \"name\": \"을지로7가\"}, {\"code\": \"1114015000\", \"name\": \"을지로4가\"}, {\"code\": \"1114015100\", \"name\": \"을지로5가\"}, {\"code\": \"1114015200\", \"name\": \"주교동\"}, {\"code\": \"1114015300\", \"name\": \"방산동\"}, {\"code\": \"1114015400\", \"name\": \"오장동\"}, {\"code\": \"1114015500\", \"name\": \"을지로3가\"}, {\"code\": \"1114015600\", \"name\": \"입정동\"}, {\"code\": \"1114015700\", \"name\": \"산림동\"}, {\"code\": \"1114015800\", \"name\": \"충무로3가\"}, {\"code\": \"1114015900\", \"name\": \"초동\"}, {\"code\": \"1114016000\", \"name\": \"인현동1가\"}, {\"code\": \"1114016100\", \"name\": \"저동2가\"}, {\"code\": \"1114016200\", \"name\": \"신당동\"}, {\"code\": \"1114016300\", \"name\": \"흥인동\"}, {\"code\": \"1114016400\", \"name\": \"무학동\"}, {\"code\": \"1114016500\", \"name\": \"황학동\"}, {\"code\": \"1114016600\", \"name\": \"서소문동\"}, {\"code\": \"1114016700\", \"name\": \"정동\"}, {\"code\": \"1114016800\", \"name\": \"순화동\"}, {\"code\": \"1114016900\", \"name\": \"의주로1가\"}, {\"code\": \"1114017000\", \"name\": \"충정로1가\"}, {\"code\": \"1114017100\", \"name\": \"중림동\"}, {\"code\": \"1114017200\", \"name\": \"의주로2가\"}, {\"code\": \"1114017300\", \"name\": \"만리동1가\"}, {\"code\": \"1114017400\", \"name\": \"만리동2가\"}]\n"
     ]
    }
   ],
   "source": [
    "import json\n",
    "\n",
    "import numpy as np\n",
    "\n",
    "from property.const.district_converter import DistrictConverter\n",
    "import PublicDataReader as pdr\n",
    "\n",
    "code = pdr.code_bdong()\n",
    "\n",
    "code = code[code[\"시군구명\"] == \"중구\"]\n",
    "code = code[code[\"말소일자\"].isnull()]\n",
    "code = code[code[\"시도코드\"] == '11']\n",
    "\n",
    "# code\n",
    "data = []\n",
    "\n",
    "for index, row in code.iterrows():\n",
    "\n",
    "    data.append({\n",
    "        \"code\" : row['법정동코드'],\n",
    "        \"name\" : row['읍면동명']\n",
    "    })\n",
    "\n",
    "# data\n",
    "\n",
    "\n",
    "###############\n",
    "# converter = DistrictConverter()\n",
    "#\n",
    "# data = []\n",
    "#\n",
    "# for si_do_name, si_do_code in converter.districts_si_do_code.items():\n",
    "#     data.append({\n",
    "#         \"si_do_code\": si_do_code,\n",
    "#         \"si_do_name\": si_do_name,\n",
    "#     })\n",
    "#\n",
    "# for district in data:\n",
    "#     sigungu_data_list = []\n",
    "#     for sigungu in converter.get_district_sigungu_list(district['si_do_name']):\n",
    "#\n",
    "#         sigungu_data_list.append({\n",
    "#             \"sigungu_code\": converter.get_district_sigungu_code(sigungu),\n",
    "#             \"sigungu_name\": sigungu\n",
    "#         })\n",
    "#     district[\"sigungu\"] = sigungu_data_list\n",
    "#\n",
    "# for si_do in data:\n",
    "#     for sigungu in si_do[\"sigungu\"]:\n",
    "#         eupmyeondong_list = []\n",
    "#         for eupmyeondong_code in converter.get_districts_eupmyendong_code(sigungu[\"sigungu_code\"]):\n",
    "#\n",
    "#             eupmyeondong_list.append({\n",
    "#                 \"code\" : eupmyeondong_code,\n",
    "#                 \"name\" : converter.get_district_eupmyendong_name(eupmyeondong_code)\n",
    "#             })\n",
    "#\n",
    "#         sigungu[\"eup_myeon_dong\"] = eupmyeondong_list\n",
    "#\n",
    "print(json.dumps(data, ensure_ascii=False))"
   ],
   "metadata": {
    "collapsed": false,
    "pycharm": {
     "name": "#%%\n"
    }
   }
  },
  {
   "cell_type": "code",
   "execution_count": 5,
   "outputs": [],
   "source": [],
   "metadata": {
    "collapsed": false,
    "pycharm": {
     "name": "#%%\n"
    }
   }
  },
  {
   "cell_type": "code",
   "execution_count": null,
   "outputs": [],
   "source": [],
   "metadata": {
    "collapsed": false,
    "pycharm": {
     "name": "#%%\n"
    }
   }
  }
 ],
 "metadata": {
  "kernelspec": {
   "display_name": "Python 3",
   "language": "python",
   "name": "python3"
  },
  "language_info": {
   "codemirror_mode": {
    "name": "ipython",
    "version": 2
   },
   "file_extension": ".py",
   "mimetype": "text/x-python",
   "name": "python",
   "nbconvert_exporter": "python",
   "pygments_lexer": "ipython2",
   "version": "2.7.6"
  }
 },
 "nbformat": 4,
 "nbformat_minor": 0
}