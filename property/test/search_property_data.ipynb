{
 "cells": [
  {
   "cell_type": "code",
   "execution_count": 1,
   "outputs": [
    {
     "ename": "KeyboardInterrupt",
     "evalue": "",
     "output_type": "error",
     "traceback": [
      "\u001B[0;31m---------------------------------------------------------------------------\u001B[0m",
      "\u001B[0;31mKeyboardInterrupt\u001B[0m                         Traceback (most recent call last)",
      "Cell \u001B[0;32mIn[1], line 43\u001B[0m\n\u001B[1;32m     39\u001B[0m \u001B[38;5;66;03m# converter.get_sigungu_list(converter.get_si_do_code(\"경기\"))\u001B[39;00m\n\u001B[1;32m     40\u001B[0m si_do_code \u001B[38;5;241m=\u001B[39m converter\u001B[38;5;241m.\u001B[39mget_si_do_code(\u001B[38;5;124m\"\u001B[39m\u001B[38;5;124m경기도\u001B[39m\u001B[38;5;124m\"\u001B[39m)\n\u001B[1;32m     41\u001B[0m converter\u001B[38;5;241m.\u001B[39mget_eupmyeondong_list(\n\u001B[1;32m     42\u001B[0m     si_do_code,\n\u001B[0;32m---> 43\u001B[0m     \u001B[43mconverter\u001B[49m\u001B[38;5;241;43m.\u001B[39;49m\u001B[43mget_sigungu_code\u001B[49m\u001B[43m(\u001B[49m\u001B[43msi_do_code\u001B[49m\u001B[43m,\u001B[49m\u001B[43m \u001B[49m\u001B[38;5;124;43m\"\u001B[39;49m\u001B[38;5;124;43m수원\u001B[39;49m\u001B[38;5;124;43m\"\u001B[39;49m\u001B[43m)\u001B[49m\n\u001B[1;32m     44\u001B[0m )\n\u001B[1;32m     45\u001B[0m \u001B[38;5;66;03m#---------------------------------------------------\u001B[39;00m\n\u001B[1;32m     46\u001B[0m \u001B[38;5;66;03m#\u001B[39;00m\n",
      "File \u001B[0;32m~/Documents/Github/Python/search_info_for_investment/property/const/district_converter.py:54\u001B[0m, in \u001B[0;36mDistrictConverter.get_sigungu_code\u001B[0;34m(self, si_do_code, sigungu_name)\u001B[0m\n\u001B[1;32m     52\u001B[0m \u001B[38;5;28;01mfor\u001B[39;00m sigungu \u001B[38;5;129;01min\u001B[39;00m \u001B[38;5;28mlist\u001B[39m:\n\u001B[1;32m     53\u001B[0m     \u001B[38;5;28;01mif\u001B[39;00m sigungu_name \u001B[38;5;129;01min\u001B[39;00m sigungu[\u001B[38;5;124m\"\u001B[39m\u001B[38;5;124msigungu_name\u001B[39m\u001B[38;5;124m\"\u001B[39m]:\n\u001B[0;32m---> 54\u001B[0m         \u001B[38;5;28;01mreturn\u001B[39;00m \u001B[43msigungu\u001B[49m[\u001B[38;5;124m\"\u001B[39m\u001B[38;5;124msigungu_code\u001B[39m\u001B[38;5;124m\"\u001B[39m]\n",
      "File \u001B[0;32m~/Documents/Github/Python/search_info_for_investment/property/const/district_converter.py:54\u001B[0m, in \u001B[0;36mDistrictConverter.get_sigungu_code\u001B[0;34m(self, si_do_code, sigungu_name)\u001B[0m\n\u001B[1;32m     52\u001B[0m \u001B[38;5;28;01mfor\u001B[39;00m sigungu \u001B[38;5;129;01min\u001B[39;00m \u001B[38;5;28mlist\u001B[39m:\n\u001B[1;32m     53\u001B[0m     \u001B[38;5;28;01mif\u001B[39;00m sigungu_name \u001B[38;5;129;01min\u001B[39;00m sigungu[\u001B[38;5;124m\"\u001B[39m\u001B[38;5;124msigungu_name\u001B[39m\u001B[38;5;124m\"\u001B[39m]:\n\u001B[0;32m---> 54\u001B[0m         \u001B[38;5;28;01mreturn\u001B[39;00m \u001B[43msigungu\u001B[49m[\u001B[38;5;124m\"\u001B[39m\u001B[38;5;124msigungu_code\u001B[39m\u001B[38;5;124m\"\u001B[39m]\n",
      "File \u001B[0;32m_pydevd_bundle/pydevd_cython_darwin_39_64.pyx:1180\u001B[0m, in \u001B[0;36m_pydevd_bundle.pydevd_cython_darwin_39_64.SafeCallWrapper.__call__\u001B[0;34m()\u001B[0m\n",
      "File \u001B[0;32m_pydevd_bundle/pydevd_cython_darwin_39_64.pyx:621\u001B[0m, in \u001B[0;36m_pydevd_bundle.pydevd_cython_darwin_39_64.PyDBFrame.trace_dispatch\u001B[0;34m()\u001B[0m\n",
      "File \u001B[0;32m_pydevd_bundle/pydevd_cython_darwin_39_64.pyx:1096\u001B[0m, in \u001B[0;36m_pydevd_bundle.pydevd_cython_darwin_39_64.PyDBFrame.trace_dispatch\u001B[0;34m()\u001B[0m\n",
      "File \u001B[0;32m_pydevd_bundle/pydevd_cython_darwin_39_64.pyx:1054\u001B[0m, in \u001B[0;36m_pydevd_bundle.pydevd_cython_darwin_39_64.PyDBFrame.trace_dispatch\u001B[0;34m()\u001B[0m\n",
      "File \u001B[0;32m/Applications/PyCharm.app/Contents/plugins/python/helpers-pro/jupyter_debug/pydev_jupyter_plugin.py:165\u001B[0m, in \u001B[0;36mstop\u001B[0;34m(plugin, pydb, frame, event, args, stop_info, arg, step_cmd)\u001B[0m\n\u001B[1;32m    163\u001B[0m     frame \u001B[38;5;241m=\u001B[39m suspend_jupyter(main_debugger, thread, frame, step_cmd)\n\u001B[1;32m    164\u001B[0m     \u001B[38;5;28;01mif\u001B[39;00m frame:\n\u001B[0;32m--> 165\u001B[0m         \u001B[43mmain_debugger\u001B[49m\u001B[38;5;241;43m.\u001B[39;49m\u001B[43mdo_wait_suspend\u001B[49m\u001B[43m(\u001B[49m\u001B[43mthread\u001B[49m\u001B[43m,\u001B[49m\u001B[43m \u001B[49m\u001B[43mframe\u001B[49m\u001B[43m,\u001B[49m\u001B[43m \u001B[49m\u001B[43mevent\u001B[49m\u001B[43m,\u001B[49m\u001B[43m \u001B[49m\u001B[43marg\u001B[49m\u001B[43m)\u001B[49m\n\u001B[1;32m    166\u001B[0m         \u001B[38;5;28;01mreturn\u001B[39;00m \u001B[38;5;28;01mTrue\u001B[39;00m\n\u001B[1;32m    167\u001B[0m \u001B[38;5;28;01mreturn\u001B[39;00m \u001B[38;5;28;01mFalse\u001B[39;00m\n",
      "File \u001B[0;32m/Applications/PyCharm.app/Contents/plugins/python/helpers/pydev/pydevd.py:1147\u001B[0m, in \u001B[0;36mPyDB.do_wait_suspend\u001B[0;34m(self, thread, frame, event, arg, send_suspend_message, is_unhandled_exception)\u001B[0m\n\u001B[1;32m   1144\u001B[0m         from_this_thread\u001B[38;5;241m.\u001B[39mappend(frame_id)\n\u001B[1;32m   1146\u001B[0m \u001B[38;5;28;01mwith\u001B[39;00m \u001B[38;5;28mself\u001B[39m\u001B[38;5;241m.\u001B[39m_threads_suspended_single_notification\u001B[38;5;241m.\u001B[39mnotify_thread_suspended(thread_id, stop_reason):\n\u001B[0;32m-> 1147\u001B[0m     \u001B[38;5;28;43mself\u001B[39;49m\u001B[38;5;241;43m.\u001B[39;49m\u001B[43m_do_wait_suspend\u001B[49m\u001B[43m(\u001B[49m\u001B[43mthread\u001B[49m\u001B[43m,\u001B[49m\u001B[43m \u001B[49m\u001B[43mframe\u001B[49m\u001B[43m,\u001B[49m\u001B[43m \u001B[49m\u001B[43mevent\u001B[49m\u001B[43m,\u001B[49m\u001B[43m \u001B[49m\u001B[43marg\u001B[49m\u001B[43m,\u001B[49m\u001B[43m \u001B[49m\u001B[43msuspend_type\u001B[49m\u001B[43m,\u001B[49m\u001B[43m \u001B[49m\u001B[43mfrom_this_thread\u001B[49m\u001B[43m)\u001B[49m\n",
      "File \u001B[0;32m/Applications/PyCharm.app/Contents/plugins/python/helpers/pydev/pydevd.py:1162\u001B[0m, in \u001B[0;36mPyDB._do_wait_suspend\u001B[0;34m(self, thread, frame, event, arg, suspend_type, from_this_thread)\u001B[0m\n\u001B[1;32m   1159\u001B[0m             \u001B[38;5;28mself\u001B[39m\u001B[38;5;241m.\u001B[39m_call_mpl_hook()\n\u001B[1;32m   1161\u001B[0m         \u001B[38;5;28mself\u001B[39m\u001B[38;5;241m.\u001B[39mprocess_internal_commands()\n\u001B[0;32m-> 1162\u001B[0m         \u001B[43mtime\u001B[49m\u001B[38;5;241;43m.\u001B[39;49m\u001B[43msleep\u001B[49m\u001B[43m(\u001B[49m\u001B[38;5;241;43m0.01\u001B[39;49m\u001B[43m)\u001B[49m\n\u001B[1;32m   1164\u001B[0m \u001B[38;5;28mself\u001B[39m\u001B[38;5;241m.\u001B[39mcancel_async_evaluation(get_current_thread_id(thread), \u001B[38;5;28mstr\u001B[39m(\u001B[38;5;28mid\u001B[39m(frame)))\n\u001B[1;32m   1166\u001B[0m \u001B[38;5;66;03m# process any stepping instructions\u001B[39;00m\n",
      "\u001B[0;31mKeyboardInterrupt\u001B[0m: "
     ]
    }
   ],
   "source": [
    "import numpy as np\n",
    "\n",
    "from config.api_key import PUBLIC_DATA_PORTAL\n",
    "import PublicDataReader as pdr\n",
    "from property.const.district_converter import DistrictConverter\n",
    "\n",
    "# API = pdr.Transaction(PUBLIC_DATA_PORTAL, debug=True)\n",
    "converter = DistrictConverter()\n",
    "# code = pdr.code_bdong()\n",
    "# code = code[code[\"말소일자\"].isnull()]\n",
    "#\n",
    "# # code\n",
    "#\n",
    "# # code[code[\"시도명\"]==\"세종특별자치시\"]\n",
    "#\n",
    "# # code1 = code[[\"시도명\", \"시군구명\"]].drop_duplicates()\n",
    "# code2 = code[[\"법정동코드\", \"읍면동명\"]].drop_duplicates()\n",
    "# code2 = code2.set_index(\"법정동코드\")\n",
    "#\n",
    "# code3 = code[[\"시군구코드\", \"법정동코드\"]].drop_duplicates()\n",
    "# # code3\n",
    "# # print(code2.T.to_dict('index'))\n",
    "# #--------------------------------\n",
    "# # -------------------\n",
    "# # # code1 = code.set_index(\"시도명\")\n",
    "# # # code1[code1[\"시도명\"]==\"서울특별시\"]\n",
    "# #---------------------------------------------------\n",
    "# district_dict = {}\n",
    "# for si_do in converter.get_district_si_do_list():\n",
    "#     for sigungu in converter.get_district_sigungu_list(si_do):\n",
    "#         sigungu_code = converter.get_district_sigungu_code(sigungu)\n",
    "#         district_dict[sigungu_code] = code3[code3[\"시군구코드\"]==sigungu_code][\"법정동코드\"].values.tolist()\n",
    "#\n",
    "# print(district_dict)\n",
    "\n",
    "# print(code2.set_index(\"시군구명\").to_dict())\n",
    "#---------------------------------------------------\n",
    "data = converter.get_data()\n",
    "# converter.get_sigungu_list(converter.get_si_do_code(\"경기\"))\n",
    "si_do_code = converter.get_si_do_code(\"경기도\")\n",
    "converter.get_eupmyeondong_list(\n",
    "    si_do_code,\n",
    "    converter.get_sigungu_code(si_do_code, \"수원\")\n",
    ")\n",
    "#---------------------------------------------------\n",
    "#"
   ],
   "metadata": {
    "collapsed": false,
    "pycharm": {
     "name": "#%%\n"
    }
   }
  },
  {
   "cell_type": "code",
   "execution_count": 1,
   "outputs": [],
   "source": [],
   "metadata": {
    "collapsed": false,
    "pycharm": {
     "name": "#%%\n"
    }
   }
  }
 ],
 "metadata": {
  "kernelspec": {
   "display_name": "Python 3",
   "language": "python",
   "name": "python3"
  },
  "language_info": {
   "codemirror_mode": {
    "name": "ipython",
    "version": 2
   },
   "file_extension": ".py",
   "mimetype": "text/x-python",
   "name": "python",
   "nbconvert_exporter": "python",
   "pygments_lexer": "ipython2",
   "version": "2.7.6"
  }
 },
 "nbformat": 4,
 "nbformat_minor": 0
}