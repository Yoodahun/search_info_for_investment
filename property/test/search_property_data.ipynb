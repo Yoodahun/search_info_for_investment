{
 "cells": [
  {
   "cell_type": "code",
   "execution_count": 1,
   "outputs": [
    {
     "name": "stderr",
     "output_type": "stream",
     "text": [
      "[ERROR] 아파트 전월세 조회 서비스 오류 - (99) SERVICE ACCESS DENIED ERROR.\n",
      "[ERROR] 오피스텔 매매 조회 서비스 오류 - (99) SERVICE ACCESS DENIED ERROR.\n",
      "[ERROR] 오피스텔 전월세 조회 서비스 오류 - (99) SERVICE ACCESS DENIED ERROR.\n",
      "[ERROR] 단독다가구 전월세 조회 서비스 오류 - (99) SERVICE ACCESS DENIED ERROR.\n",
      "[ERROR] 연립다세대 전월세 조회 서비스 오류 - (99) SERVICE ACCESS DENIED ERROR.\n",
      "[ERROR] 상업업무용 매매 조회 서비스 오류 - (99) SERVICE ACCESS DENIED ERROR.\n",
      "[ERROR] 토지 매매 조회 서비스 오류 - (99) SERVICE ACCESS DENIED ERROR.\n",
      "[ERROR] 분양입주권 매매 조회 서비스 오류 - (99) SERVICE ACCESS DENIED ERROR.\n",
      "[ERROR] 공장창고등 매매 조회 서비스 오류 - (99) SERVICE ACCESS DENIED ERROR.\n"
     ]
    },
    {
     "name": "stdout",
     "output_type": "stream",
     "text": [
      "Exporting result to excel file.....\n"
     ]
    }
   ],
   "source": [
    "from datetime import timedelta, date\n",
    "from export_data.export_to_excel import ExportToData\n",
    "import property.extract_data.extract as extract\n",
    "import property.filter_data as filter_data\n",
    "\n",
    "today = date.today()\n",
    "month_ago = today.replace(day = 1) - timedelta(days = 1)\n",
    "year = str(month_ago.year)\n",
    "month = str(month_ago.month)\n",
    "\n",
    "seoul_apartment =extract.get_seoul_data(\n",
    "    \"아파트\",\n",
    "    \"매매\",\n",
    "    year+month\n",
    ")\n",
    "\n",
    "seoul_villa = extract.get_seoul_data(\n",
    "    \"연립다세대\",\n",
    "    \"매매\",\n",
    "    year+month\n",
    ")\n",
    "\n",
    "suwon_apartment = extract.get_district_data(\n",
    "    \"경기도\",\n",
    "    \"수원\",\n",
    "    \"아파트\",\n",
    "    \"매매\",\n",
    "    year+month\n",
    ")\n",
    "suwon_villa = extract.get_district_data(\n",
    "    \"경기도\",\n",
    "    \"수원\",\n",
    "    \"연립다세대\",\n",
    "    \"매매\",\n",
    "    year+month\n",
    ")\n",
    "\n",
    "seongnam_apartment = extract.get_district_data(\n",
    "    \"경기도\",\n",
    "    \"성남\",\n",
    "    \"아파트\",\n",
    "    \"매매\",\n",
    "    year+month\n",
    ")\n",
    "seongnam_villa = extract.get_district_data(\n",
    "    \"경기도\",\n",
    "    \"성남\",\n",
    "    \"연립다세대\",\n",
    "    \"매매\",\n",
    "    year+month\n",
    ")\n",
    "\n",
    "exporter = ExportToData()\n",
    "\n",
    "# exporter.export_to_excel(\n",
    "#     f\"/Users/yoodahun/Documents/Dahun Document/Investment information/{year+month}_property_screeningData.xlsx\",\n",
    "#     \"서울 아파트 매매가 데이터\",\n",
    "#     data\n",
    "# )\n",
    "\n",
    "\n",
    "exporter.export_to_excel_with_many_sheets(\n",
    "    f\"/Users/yoodahun/Documents/Dahun Document/Investment information/{year+month}_property_screeningData.xlsx\",\n",
    "    [\n",
    "        filter_data.filtering_transaction_amount(\"서울 아파트 6억이하 매매\", seoul_apartment),\n",
    "        filter_data.filtering_transaction_amount(\"서울 빌라 6억이하 매매\", seoul_villa),\n",
    "        filter_data.filtering_transaction_amount(\"수원 아파트 6억이하 매매\", suwon_apartment),\n",
    "        filter_data.filtering_transaction_amount(\"수원 빌라 6억이하 매매\", suwon_villa),\n",
    "        filter_data.filtering_transaction_amount(\"성남 아파트 6억이하 매매\", seongnam_apartment),\n",
    "        filter_data.filtering_transaction_amount(\"성남 빌라 6억이하 매매\", seongnam_villa),\n",
    "        (\"서울아파트매매가 데이터_raw_data\", seoul_apartment),\n",
    "        (\"서울빌라매매가 데이터_raw_data\", seoul_villa),\n",
    "        (\"수원아파트매매가 데이터_raw_data\", suwon_apartment),\n",
    "        (\"수원빌라매매가 데이터_raw_data\", suwon_villa),\n",
    "        (\"성남아파트매매가 데이터_raw_data\", seongnam_apartment),\n",
    "        (\"성남빌라매매가 데이터_raw_data\", seongnam_villa)\n",
    "    ]\n",
    "\n",
    ")"
   ],
   "metadata": {
    "collapsed": false,
    "pycharm": {
     "name": "#%%\n"
    }
   }
  },
  {
   "cell_type": "code",
   "execution_count": 1,
   "outputs": [],
   "source": [],
   "metadata": {
    "collapsed": false,
    "pycharm": {
     "name": "#%%\n"
    }
   }
  }
 ],
 "metadata": {
  "kernelspec": {
   "display_name": "Python 3",
   "language": "python",
   "name": "python3"
  },
  "language_info": {
   "codemirror_mode": {
    "name": "ipython",
    "version": 2
   },
   "file_extension": ".py",
   "mimetype": "text/x-python",
   "name": "python",
   "nbconvert_exporter": "python",
   "pygments_lexer": "ipython2",
   "version": "2.7.6"
  }
 },
 "nbformat": 4,
 "nbformat_minor": 0
}