{
 "cells": [
  {
   "cell_type": "code",
   "execution_count": null,
   "outputs": [],
   "source": [
    "from datetime import timedelta, date\n",
    "from export_data.export_to_excel import ExportToData\n",
    "import property.extract_data.extract as extract\n",
    "import property.filter_data as filter_data\n",
    "\n",
    "today = date.today()\n",
    "month_ago = today.replace(day = 1) - timedelta(days = 1)\n",
    "year = str(month_ago.year)\n",
    "month = str(month_ago.month)\n",
    "\n",
    "seoul_data =extract.get_seoul_data(\n",
    "    \"매매\",\n",
    "    year+month\n",
    ")\n",
    "\n",
    "suwon_data = extract.get_district_data(\n",
    "    \"경기도\",\n",
    "    \"수원\",\n",
    "    \"매매\",\n",
    "    year+month\n",
    ")\n",
    "\n",
    "seongnam_data = extract.get_district_data(\n",
    "    \"경기도\",\n",
    "    \"성남\",\n",
    "    \"매매\",\n",
    "    year+month\n",
    ")\n",
    "\n",
    "\n",
    "exporter = ExportToData()\n",
    "\n",
    "# exporter.export_to_excel(\n",
    "#     f\"/Users/yoodahun/Documents/Dahun Document/Investment information/{year+month}_property_screeningData.xlsx\",\n",
    "#     \"서울 아파트 매매가 데이터\",\n",
    "#     data\n",
    "# )\n",
    "\n",
    "\n",
    "exporter.export_to_excel_with_many_sheets(\n",
    "    f\"/Users/yoodahun/Documents/Dahun Document/Investment information/{year+month}_property_screeningData.xlsx\",\n",
    "    [\n",
    "        filter_data.filtering_transaction_amount(\"서울 6억이하 매매\", seoul_data),\n",
    "        filter_data.filtering_transaction_amount(\"수원 6억이하 매매\", suwon_data),\n",
    "        filter_data.filtering_transaction_amount(\"성남 6억이하 매매\", seongnam_data),\n",
    "        (\"서울 매매가 데이터_raw_data\", seoul_data),\n",
    "        (\"수원 매매가 데이터_raw_data\", suwon_data),\n",
    "        (\"성남 매매가 데이터_raw_data\", seongnam_data)\n",
    "    ]\n",
    "\n",
    ")"
   ],
   "metadata": {
    "collapsed": false,
    "pycharm": {
     "name": "#%%\n",
     "is_executing": true
    }
   }
  },
  {
   "cell_type": "code",
   "execution_count": 1,
   "outputs": [],
   "source": [],
   "metadata": {
    "collapsed": false,
    "pycharm": {
     "name": "#%%\n"
    }
   }
  }
 ],
 "metadata": {
  "kernelspec": {
   "display_name": "Python 3",
   "language": "python",
   "name": "python3"
  },
  "language_info": {
   "codemirror_mode": {
    "name": "ipython",
    "version": 2
   },
   "file_extension": ".py",
   "mimetype": "text/x-python",
   "name": "python",
   "nbconvert_exporter": "python",
   "pygments_lexer": "ipython2",
   "version": "2.7.6"
  }
 },
 "nbformat": 4,
 "nbformat_minor": 0
}